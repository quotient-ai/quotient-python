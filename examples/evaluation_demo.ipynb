{
 "cells": [
  {
   "cell_type": "markdown",
   "metadata": {
    "id": "Ynshtbq8IcOX"
   },
   "source": [
    "# Quotient Python SDK Demo\n",
    "\n",
    "Documentation for the `quotientai` CLI and SDK can be found at [docs.quotientai.co](docs.quotientai.co).\n",
    "\n",
    "### Prerequisites\n",
    "- Python 3.10 or higher\n",
    "- Quotient account and API key (see our [quickstart guide](https://docs.quotientai.co/sdk-reference/get-started))\n",
    "\n",
    "### Overview\n",
    "\n",
    "In this notebook, we will demo the experimentation process for evaluating models on their ability to answer questions about the IRS 1040 and Schedule C tax forms. We compare performance between OpenAI's `o1` model and DeepSeek's `R1` model. Each model will be given the same, generic question-answering prompt, where they will be provided with context from the tax form instructions as well as a question."
   ]
  },
  {
   "cell_type": "markdown",
   "metadata": {
    "id": "QOZpSNisA6ui"
   },
   "source": [
    "## Setup"
   ]
  },
  {
   "cell_type": "code",
   "execution_count": null,
   "metadata": {
    "colab": {
     "base_uri": "https://localhost:8080/"
    },
    "id": "PhFzEiBgJRiF",
    "outputId": "21757aa9-55b0-475a-fea1-3ae268470499"
   },
   "outputs": [],
   "source": [
    "import os\n",
    "import time\n",
    "import pandas as pd\n",
    "from matplotlib import pyplot as plt\n",
    "\n",
    "from quotientai import QuotientAI"
   ]
  },
  {
   "cell_type": "code",
   "execution_count": null,
   "metadata": {
    "id": "Uni-PaVeqFRW"
   },
   "outputs": [],
   "source": [
    "# Add your API key here or set it as an environment variable\n",
    "quotient_api_key = \"fill_in_here\"\n",
    "\n",
    "os.environ['QUOTIENT_API_KEY'] = quotient_api_key\n",
    "\n",
    "# Initialize Quotient\n",
    "quotient = QuotientAI()"
   ]
  },
  {
   "cell_type": "markdown",
   "metadata": {
    "id": "HLyEd6ktgv6B"
   },
   "source": [
    "# IRS Form Instruction Question Answering"
   ]
  },
  {
   "cell_type": "markdown",
   "metadata": {
    "id": "xgWbKWFnbSbf"
   },
   "source": [
    "## Adding your dataset\n",
    "\n",
    "### Notes:\n",
    "- The column representing the input to the LLM must be named `input`\n",
    "- The column representing the expected answer from the LLM must be named `expected`\n",
    "- `Optional`: You can provide a `context` column to the dataset to add in any context you pull in from external sources like vector databases."
   ]
  },
  {
   "cell_type": "markdown",
   "metadata": {
    "id": "LCkGmvj2MYEZ"
   },
   "source": [
    "The IRS question-answering dataset contains 200 question-context-answer triplets. We will be running the evaluation on a subset of 50 of them. "
   ]
  },
  {
   "cell_type": "code",
   "execution_count": 98,
   "metadata": {},
   "outputs": [
    {
     "data": {
      "text/html": [
       "<div>\n",
       "<style scoped>\n",
       "    .dataframe tbody tr th:only-of-type {\n",
       "        vertical-align: middle;\n",
       "    }\n",
       "\n",
       "    .dataframe tbody tr th {\n",
       "        vertical-align: top;\n",
       "    }\n",
       "\n",
       "    .dataframe thead th {\n",
       "        text-align: right;\n",
       "    }\n",
       "</style>\n",
       "<table border=\"1\" class=\"dataframe\">\n",
       "  <thead>\n",
       "    <tr style=\"text-align: right;\">\n",
       "      <th></th>\n",
       "      <th>context</th>\n",
       "      <th>input</th>\n",
       "      <th>expected</th>\n",
       "    </tr>\n",
       "  </thead>\n",
       "  <tbody>\n",
       "    <tr>\n",
       "      <th>426</th>\n",
       "      <td>Include fees for tax advice related to your bu...</td>\n",
       "      <td>What expenses should be included on Line 18 of...</td>\n",
       "      <td>On Line 18, you should include your expenses f...</td>\n",
       "    </tr>\n",
       "    <tr>\n",
       "      <th>90</th>\n",
       "      <td>![This is an Image: box.gif](/pub/xml_bc/box.g...</td>\n",
       "      <td>What should I enter on line 10 if I am married...</td>\n",
       "      <td>If you are married filing separately and lived...</td>\n",
       "    </tr>\n",
       "    <tr>\n",
       "      <th>7</th>\n",
       "      <td>**Changes to reporting amounts from Form 1099-...</td>\n",
       "      <td>What should I do if I received a Form 1099-K s...</td>\n",
       "      <td>Beginning in 2024, if you received a Form 1099...</td>\n",
       "    </tr>\n",
       "    <tr>\n",
       "      <th>33</th>\n",
       "      <td>#### Foster child.\\n\\nA foster child is any ch...</td>\n",
       "      <td>Can I file as a Qualifying Surviving Spouse if...</td>\n",
       "      <td>No, you cannot file as a Qualifying Surviving ...</td>\n",
       "    </tr>\n",
       "    <tr>\n",
       "      <th>396</th>\n",
       "      <td>**Single-member limited liability company (LLC...</td>\n",
       "      <td>What tax form should a single-member LLC file ...</td>\n",
       "      <td>A single-member LLC with employees must file e...</td>\n",
       "    </tr>\n",
       "  </tbody>\n",
       "</table>\n",
       "</div>"
      ],
      "text/plain": [
       "                                               context  \\\n",
       "426  Include fees for tax advice related to your bu...   \n",
       "90   ![This is an Image: box.gif](/pub/xml_bc/box.g...   \n",
       "7    **Changes to reporting amounts from Form 1099-...   \n",
       "33   #### Foster child.\\n\\nA foster child is any ch...   \n",
       "396  **Single-member limited liability company (LLC...   \n",
       "\n",
       "                                                 input  \\\n",
       "426  What expenses should be included on Line 18 of...   \n",
       "90   What should I enter on line 10 if I am married...   \n",
       "7    What should I do if I received a Form 1099-K s...   \n",
       "33   Can I file as a Qualifying Surviving Spouse if...   \n",
       "396  What tax form should a single-member LLC file ...   \n",
       "\n",
       "                                              expected  \n",
       "426  On Line 18, you should include your expenses f...  \n",
       "90   If you are married filing separately and lived...  \n",
       "7    Beginning in 2024, if you received a Form 1099...  \n",
       "33   No, you cannot file as a Qualifying Surviving ...  \n",
       "396  A single-member LLC with employees must file e...  "
      ]
     },
     "execution_count": 98,
     "metadata": {},
     "output_type": "execute_result"
    }
   ],
   "source": [
    "# Load Dataset from HuggingFace\n",
    "# Note, you may need to login using e.g. `huggingface-cli login` to access this dataset\n",
    "irs_qa = pd.read_parquet(\"hf://datasets/quotientai/irs_form_instruction_qa_pairs/tax_form_instructions_qa_pairs.parquet\", \n",
    "                         columns=[\"context\",\"question\", \"answer\"])\n",
    "\n",
    "# Rename columns to match the expected format\n",
    "irs_qa = irs_qa.rename(columns={\"question\": \"input\", \"answer\": \"expected\"})\n",
    "\n",
    "# We will use the first 50 rows for this demo\n",
    "irs_qa_sample = irs_qa.head(50)\n",
    "\n",
    "irs_qa_sample.head()"
   ]
  },
  {
   "cell_type": "markdown",
   "metadata": {
    "id": "Rk6auvDZOixC"
   },
   "source": [
    "To upload the data to Quotient, you can run the following cell. \n",
    "\n",
    "Keep in mind, the data must be formatted as a list of dictionaries. If a dataset with the desired name already exists, **the data will be appended onto the existing dataset**. "
   ]
  },
  {
   "cell_type": "code",
   "execution_count": null,
   "metadata": {},
   "outputs": [
    {
     "name": "stdout",
     "output_type": "stream",
     "text": [
      "Dataset demo-irs-form-instruction-qa created\n"
     ]
    }
   ],
   "source": [
    "# Create a dataset in Quotient\n",
    "dataset_name = \"demo-irs-form-instruction-qa\"\n",
    "\n",
    "# First check to see if we already have a dataset with this name\n",
    "existing_dataset = [dataset for dataset in quotient.datasets.list() if dataset.name==dataset_name]\n",
    "\n",
    "# Only create the dataset if it does not already exist\n",
    "# Warning: creating a dataset with the same name as an existing dataset will append rows onto the existing dataset\n",
    "if len(existing_dataset) == 0:\n",
    "    dataset = quotient.datasets.create(\n",
    "        name=dataset_name,\n",
    "        rows=irs_qa_sample.to_dict(orient='records'), # convert dataframe to list of dictionaries\n",
    "    )\n",
    "    print(f\"Dataset {dataset_name} created\")\n",
    "# If the dataset already exists, save the dataset object\n",
    "else:\n",
    "    print(f\"Dataset {dataset_name} already exists\")\n",
    "    dataset = existing_dataset[0]"
   ]
  },
  {
   "cell_type": "markdown",
   "metadata": {},
   "source": [
    "## Creating your prompt\n",
    "\n",
    "We will use a simple system and user prompt for this task. If a prompt with the desired name already exists, you will get an error. If you wish to create a new version of an existing prompt, you may use the `quotient.prompts.update()` method instead.\n",
    "\n",
    "P"
   ]
  },
  {
   "cell_type": "code",
   "execution_count": null,
   "metadata": {},
   "outputs": [],
   "source": [
    "# Let's start with a simple system and user prompt\n",
    "prompt_name = \"quotient-demo-prompt-v1\"\n",
    "\n",
    "system_prompt_v1 = \"You are a tax professional helping answer user questions about their tax form.\"\n",
    "\n",
    "user_prompt_v1 = \"\"\"\n",
    "Question:\n",
    "{{input}}\n",
    "\n",
    "Context:\n",
    "{{context}}\n",
    "\"\"\""
   ]
  },
  {
   "cell_type": "code",
   "execution_count": null,
   "metadata": {},
   "outputs": [
    {
     "name": "stdout",
     "output_type": "stream",
     "text": [
      "Prompt quotient-demo-prompt-v1 created\n",
      "\n",
      "SYSTEM PROMPT:\n",
      "You are a tax professional helping answer user questions about their tax form.\n",
      "\n",
      "USER PROMPT:\n",
      "\n",
      "Question:\n",
      "{{input}}\n",
      "\n",
      "Context:\n",
      "{{context}}\n",
      "\n"
     ]
    }
   ],
   "source": [
    "# First check to see if we already have a prompt with this name\n",
    "existing_prompt = [prompt for prompt in quotient.prompts.list() if prompt.name==prompt_name]\n",
    "\n",
    "# Only create the prompt if it does not already exist\n",
    "# Warning: creating a prompt with the same name as an existing prompt will output an error\n",
    "if len(existing_prompt) == 0:\n",
    "    # create your prompt with Quotient\n",
    "    prompt = quotient.prompts.create(\n",
    "        name=prompt_name,\n",
    "        system_prompt=system_prompt_v1,\n",
    "        user_prompt=user_prompt_v1,\n",
    "    )\n",
    "    print(f\"Prompt {prompt_name} created\")\n",
    "\n",
    "    print(f\"\\nSYSTEM PROMPT:\\n{prompt.system_prompt}\")\n",
    "    print(f\"\\nUSER PROMPT:\\n{prompt.user_prompt}\")\n",
    "    \n",
    "# If the prompt already exists, save the prompt object\n",
    "else:\n",
    "    print(f\"Prompt {prompt_name} already exists\")\n",
    "    prompt = existing_prompt[0]\n",
    "\n",
    "    print(f\"\\nSYSTEM PROMPT:\\n{prompt.system_prompt}\")\n",
    "    print(f\"\\nUSER PROMPT:\\n{prompt.user_prompt}\")\n"
   ]
  },
  {
   "cell_type": "markdown",
   "metadata": {},
   "source": [
    "## Picking Metrics\n",
    "\n",
    "The following metrics are supported. If you would like to see any additional metrics that are not on this list, please don't hesistate to contact us."
   ]
  },
  {
   "cell_type": "code",
   "execution_count": 8,
   "metadata": {},
   "outputs": [
    {
     "data": {
      "text/plain": [
       "['bertscore',\n",
       " 'exactmatch',\n",
       " 'faithfulness_selfcheckgpt',\n",
       " 'sentence_tranformers_similarity',\n",
       " 'f1score',\n",
       " 'jaccard_similarity',\n",
       " 'knowledge_f1score',\n",
       " 'meteor',\n",
       " 'normalized_exactmatch',\n",
       " 'rouge_for_context',\n",
       " 'rouge1',\n",
       " 'rouge2',\n",
       " 'rougeL',\n",
       " 'rougeLsum',\n",
       " 'sacrebleu',\n",
       " 'verbosity_ratio']"
      ]
     },
     "execution_count": 8,
     "metadata": {},
     "output_type": "execute_result"
    }
   ],
   "source": [
    "quotient.metrics.list()"
   ]
  },
  {
   "cell_type": "markdown",
   "metadata": {},
   "source": [
    "For this analysis, we will be considering:\n",
    "- `rougeL`\n",
    "- `verbosity_ratio`\n",
    "- `bertscore`\n",
    "- `faithfulness_selfcheckgpt`\n",
    "- `sentence_tranformers_similarity`"
   ]
  },
  {
   "cell_type": "code",
   "execution_count": null,
   "metadata": {},
   "outputs": [],
   "source": [
    "metrics = [\n",
    "    'rougeL',\n",
    "    'verbosity_ratio',\n",
    "    'bertscore',\n",
    "    'faithfulness_selfcheckgpt',\n",
    "    'sentence_tranformers_similarity'\n",
    " ]"
   ]
  },
  {
   "cell_type": "markdown",
   "metadata": {},
   "source": [
    "## Picking a model"
   ]
  },
  {
   "cell_type": "code",
   "execution_count": null,
   "metadata": {},
   "outputs": [
    {
     "name": "stdout",
     "output_type": "stream",
     "text": [
      "gpt-4\n",
      "gpt-4o\n",
      "gpt-4o-2024-05-13\n",
      "gpt-4-turbo-preview\n",
      "gpt-4-0613\n",
      "gpt-4-turbo\n",
      "gpt-4-turbo-2024-04-09\n",
      "gpt-4-1106-preview\n",
      "gpt-4-0125-preview\n",
      "gpt-3.5-turbo\n",
      "gpt-3.5-turbo-1106\n",
      "gpt-3.5-turbo-0125\n",
      "claude-2.1\n",
      "claude-3-haiku-20240307\n",
      "claude-3-opus-20240229\n",
      "claude-3-sonnet-20240229\n",
      "claude-3-5-sonnet-20240620\n",
      "vertex_ai/chat-bison\n",
      "vertex_ai/chat-bison@002\n",
      "vertex_ai/gemini-pro\n",
      "vertex_ai/gemini-1.5-pro\n",
      "vertex_ai/gemini-1.5-flash-preview-0514\n",
      "vertex_ai/gemini-1.5-pro-preview-0514\n",
      "databricks/databricks-dbrx-instruct\n",
      "databricks/databricks-meta-llama-3-70b-instruct\n",
      "databricks/databricks-mixtral-8x7b-instruct\n",
      "gemini-1.5-pro-002\n",
      "claude-3-5-sonnet-20241022\n",
      "gemini-1.5-flash-002\n",
      "vertex_ai/meta/llama-3.2-90b-vision-instruct-maas\n",
      "claude-3-5-haiku-20241022\n",
      "together_ai/deepseek-ai/DeepSeek-R1\n",
      "o1-preview\n",
      "o1-mini\n",
      "gpt-4o-mini-2024-07-18\n",
      "together_ai/mistralai/Mistral-7B-Instruct-v0.1\n"
     ]
    }
   ],
   "source": [
    "# get the list of supported models\n",
    "models = quotient.models.list()\n",
    "\n",
    "for m in models:\n",
    "    print(m.name)"
   ]
  },
  {
   "cell_type": "code",
   "execution_count": 11,
   "metadata": {},
   "outputs": [],
   "source": [
    "# get OpenAI's o1-preview model\n",
    "# note: must use the exact name of the model\n",
    "o1_model = quotient.models.get(\"o1-preview\")"
   ]
  },
  {
   "cell_type": "markdown",
   "metadata": {},
   "source": [
    "## Running an evaluation\n",
    "\n",
    "To start an evaluation run, you must specify the desired prompt, dataset, model, model parameters, and metrics. Since `o1` is a reasoning model, it does not accept `temperature` or `top_p` as parameters."
   ]
  },
  {
   "cell_type": "code",
   "execution_count": null,
   "metadata": {},
   "outputs": [
    {
     "name": "stdout",
     "output_type": "stream",
     "text": [
      "Run ID: b3580593-cb83-44dc-8d70-243afc069e23\n"
     ]
    }
   ],
   "source": [
    "# create a run with all of the metrics we care about\n",
    "o1_run = quotient.evaluate(\n",
    "    prompt=prompt,\n",
    "    dataset=dataset,\n",
    "    model=o1_model,\n",
    "    parameters={\n",
    "        \"max_tokens\": 1500,\n",
    "    },\n",
    "    metrics=metrics,\n",
    ")\n",
    "\n",
    "# get the run ID and status\n",
    "print(\"Run ID:\", o1_run.id)"
   ]
  },
  {
   "cell_type": "code",
   "execution_count": null,
   "metadata": {},
   "outputs": [
    {
     "name": "stdout",
     "output_type": "stream",
     "text": [
      "Status:  completed\n"
     ]
    },
    {
     "data": {
      "text/plain": [
       "[{'id': 'f16e3471-42c1-421b-aff0-fab10d133ded',\n",
       "  'input': 'What types of expenses can be included as deductions on line 12 of the IRS tax form?',\n",
       "  'output': 'On **line 12** of **Schedule 1 (Form 1040)**, you can deduct certain unreimbursed employee business expenses if you are one of the following qualified individuals:\\n\\n1. **Armed Forces Reservists**:\\n   - **Who qualifies**: Members of the National Guard or reserve components of the U.S. Armed Forces.\\n   - **Deductible expenses**: Unreimbursed travel expenses incurred while performing services as a reservist more than 100 miles away from home. This includes expenses for transportation, lodging, and meals (subject to the 50% limit on meal expenses).\\n   - **How to claim**: Complete **[Form 2106](https://www.irs.gov/forms-pubs/about-form-2106)** to calculate your deductible expenses and include the deduction on line 12.\\n\\n2. **Qualified Performing Artists**:\\n   - **Who qualifies**: Performing artists who meet all the following criteria:\\n     - Performed services in the performing arts as an employee for at least two employers during the tax year.\\n     - Received from at least two of those employers wages of $200 or more per employer.\\n     - Had allowable business expenses attributable to the performing arts of more than 10% of gross income from those performances.\\n     - Had an adjusted gross income of $16,000 or less before deducting these expenses (amount subject to annual adjustment).\\n   - **Deductible expenses**: Unreimbursed employee business expenses related to performing arts, such as agent fees, costume expenses, and travel between performances.\\n   - **How to claim**: Use **Form 2106** to compute your expenses and report the deduction on line 12.\\n\\n3. **Fee-Basis State or Local Government Officials**:\\n   - **Who qualifies**: State or local government officials who are compensated in whole or in part on a fee basis.\\n   - **Deductible expenses**: Expenses incurred in carrying out official duties, such as office expenses, supplies, and travel expenses that are not reimbursed.\\n   - **How to claim**: Complete **Form 2106** to calculate your deductible expenses and include the deduction on line 12.\\n\\n**Important Notes**:\\n\\n- **Form 2106**: This form is used to calculate the allowable employee business expenses for the qualified individuals listed above. The total deductible expenses from Form 2106 are then entered on line 12 of Schedule 1 (Form 1040).\\n\\n- **Tax Cuts and Jobs Act of 2017**: Under current tax law, most employees cannot deduct unreimbursed employee business expenses. However,',\n",
       "  'values': {'knowledge_f1score': 0.39603960396039606,\n",
       "   'rougeL': {'precision': 0.10714285714285714,\n",
       "    'recall': 0.7659574468085106,\n",
       "    'f1': 0.18798955613577023},\n",
       "   'verbosity_ratio': 7.666666666666667,\n",
       "   'bertscore': {'precision': 0.5194629430770874,\n",
       "    'recall': 0.6989868879318237,\n",
       "    'f1': 0.5959995985031128},\n",
       "   'faithfulness_selfcheckgpt': 0.235826276242733,\n",
       "   'sentence_tranformers_similarity': 0.6951603889465332},\n",
       "  'created_at': '2025-02-24T15:57:25.310248',\n",
       "  'created_by': '9842a2b1-f666-4e18-9233-7cb0694355f9',\n",
       "  'context': \"Include the following deductions on  \\nline 12.\\n\\n*   Certain business expenses of National Guard and reserve members who traveled more than 100 miles from home to perform services as a National Guard or reserve member.\\n    \\n*   Performing-arts-related expenses as a qualified performing artist.\\n    \\n*   Business expenses of fee-basis state or local government officials.\\n    \\n\\nFor more details, see Form 2106.\\n\\n#### Line 13\\n\\n##### Health Savings Account (HSA) Deduction\\n\\nYou may be able to take this deduction if contributions (other than employer contributions, rollovers, and qualified HSA funding distributions from an IRA) were made to your HSA for 2024. See Form 8889.\\n\\n#### Line 14\\n\\n##### Moving Expenses\\n\\nYou can deduct moving expenses if you are a member of the Armed Forces on active duty and due to a military order you move because of a permanent change of station. Use [Tax Topic 455](https://www.irs.gov/taxtopics/tc455.html) or see Form 3903.\\n\\n#### Line 15\\n\\n##### Deductible Part of Self-Employment Tax\\n\\nIf you were self-employed and owe self-employment tax, fill in Schedule SE to figure the amount of your deduction. The deductible part of your self-employment tax is on line 13 of Schedule SE.\\n\\n#### Line 16\\n\\n##### Self-Employed SEP, SIMPLE, and Qualified Plans\\n\\nIf you were self-employed or a partner, you may be able to take this deduction. See Pub. 560 or, if you were a minister, Pub. 517.\\n\\n#### Line 17\\n\\n##### Self-Employed Health Insurance Deduction\\n\\nYou may be able to deduct the amount you paid for health insurance (which includes medical, dental, and vision insurance and qualified long-term care insurance) for yourself, your spouse, and your dependents. The insurance can also cover your child who was under age 27 at the end of 2024, even if the child wasn't your dependent. A child includes your son, daughter, stepchild, adopted child, or foster child (defined in Who Qualifies as Your Dependent in the Instructions for Form 1040).\\n\\n### Self-Employed Health Insurance Deduction Worksheet—Schedule 1, Line 17\",\n",
       "  'expected': 'On line 12, you can include deductions for certain business expenses of National Guard and reserve members who traveled more than 100 miles from home to perform services, performing-arts-related expenses as a qualified performing artist, and business expenses of fee-basis state or local government officials.'}]"
      ]
     },
     "execution_count": 13,
     "metadata": {},
     "output_type": "execute_result"
    }
   ],
   "source": [
    "# wait for the run to finish\n",
    "while quotient.runs.get(o1_run.id).status in [\"not-started\", \"running\"]:\n",
    "    time.sleep(10)\n",
    "    pass\n",
    "\n",
    "print(\"Status: \", quotient.runs.get(o1_run.id).status)\n",
    "\n",
    "# get the run results\n",
    "o1_run_results = quotient.runs.get(o1_run.id).results\n",
    "\n",
    "o1_run_results[:1]"
   ]
  },
  {
   "cell_type": "markdown",
   "metadata": {},
   "source": [
    "Evaluation run results are returned as a list of dictionaries (one dictionary of results per row)."
   ]
  },
  {
   "cell_type": "code",
   "execution_count": 62,
   "metadata": {},
   "outputs": [
    {
     "data": {
      "text/html": [
       "<div>\n",
       "<style scoped>\n",
       "    .dataframe tbody tr th:only-of-type {\n",
       "        vertical-align: middle;\n",
       "    }\n",
       "\n",
       "    .dataframe tbody tr th {\n",
       "        vertical-align: top;\n",
       "    }\n",
       "\n",
       "    .dataframe thead th {\n",
       "        text-align: right;\n",
       "    }\n",
       "</style>\n",
       "<table border=\"1\" class=\"dataframe\">\n",
       "  <thead>\n",
       "    <tr style=\"text-align: right;\">\n",
       "      <th></th>\n",
       "      <th>id</th>\n",
       "      <th>input</th>\n",
       "      <th>output</th>\n",
       "      <th>created_at</th>\n",
       "      <th>created_by</th>\n",
       "      <th>context</th>\n",
       "      <th>expected</th>\n",
       "      <th>knowledge_f1score</th>\n",
       "      <th>rougeL.precision</th>\n",
       "      <th>rougeL.recall</th>\n",
       "      <th>rougeL.f1</th>\n",
       "      <th>verbosity_ratio</th>\n",
       "      <th>bertscore.precision</th>\n",
       "      <th>bertscore.recall</th>\n",
       "      <th>bertscore.f1</th>\n",
       "      <th>faithfulness_selfcheckgpt</th>\n",
       "      <th>sentence_tranformers_similarity</th>\n",
       "    </tr>\n",
       "  </thead>\n",
       "  <tbody>\n",
       "    <tr>\n",
       "      <th>0</th>\n",
       "      <td>f16e3471-42c1-421b-aff0-fab10d133ded</td>\n",
       "      <td>What types of expenses can be included as dedu...</td>\n",
       "      <td>On **line 12** of **Schedule 1 (Form 1040)**, ...</td>\n",
       "      <td>2025-02-24T15:57:25.310248</td>\n",
       "      <td>9842a2b1-f666-4e18-9233-7cb0694355f9</td>\n",
       "      <td>Include the following deductions on  \\nline 12...</td>\n",
       "      <td>On line 12, you can include deductions for cer...</td>\n",
       "      <td>0.396040</td>\n",
       "      <td>0.107143</td>\n",
       "      <td>0.765957</td>\n",
       "      <td>0.18799</td>\n",
       "      <td>7.666667</td>\n",
       "      <td>0.519463</td>\n",
       "      <td>0.698987</td>\n",
       "      <td>0.596000</td>\n",
       "      <td>0.235826</td>\n",
       "      <td>0.695160</td>\n",
       "    </tr>\n",
       "    <tr>\n",
       "      <th>1</th>\n",
       "      <td>c0b4c2c0-a16b-41a4-8881-b354fea83ac2</td>\n",
       "      <td>What percentage of business meal expenses can ...</td>\n",
       "      <td>**Answer:**\\n\\nIndividuals who are subject to ...</td>\n",
       "      <td>2025-02-24T15:58:24.776701</td>\n",
       "      <td>9842a2b1-f666-4e18-9233-7cb0694355f9</td>\n",
       "      <td>The standard meal allowance is the federal mea...</td>\n",
       "      <td>Individuals subject to the Department of Trans...</td>\n",
       "      <td>0.552036</td>\n",
       "      <td>0.174129</td>\n",
       "      <td>1.000000</td>\n",
       "      <td>0.29661</td>\n",
       "      <td>5.861111</td>\n",
       "      <td>0.544889</td>\n",
       "      <td>0.719462</td>\n",
       "      <td>0.620124</td>\n",
       "      <td>0.802549</td>\n",
       "      <td>0.923374</td>\n",
       "    </tr>\n",
       "  </tbody>\n",
       "</table>\n",
       "</div>"
      ],
      "text/plain": [
       "                                     id  \\\n",
       "0  f16e3471-42c1-421b-aff0-fab10d133ded   \n",
       "1  c0b4c2c0-a16b-41a4-8881-b354fea83ac2   \n",
       "\n",
       "                                               input  \\\n",
       "0  What types of expenses can be included as dedu...   \n",
       "1  What percentage of business meal expenses can ...   \n",
       "\n",
       "                                              output  \\\n",
       "0  On **line 12** of **Schedule 1 (Form 1040)**, ...   \n",
       "1  **Answer:**\\n\\nIndividuals who are subject to ...   \n",
       "\n",
       "                   created_at                            created_by  \\\n",
       "0  2025-02-24T15:57:25.310248  9842a2b1-f666-4e18-9233-7cb0694355f9   \n",
       "1  2025-02-24T15:58:24.776701  9842a2b1-f666-4e18-9233-7cb0694355f9   \n",
       "\n",
       "                                             context  \\\n",
       "0  Include the following deductions on  \\nline 12...   \n",
       "1  The standard meal allowance is the federal mea...   \n",
       "\n",
       "                                            expected  knowledge_f1score  \\\n",
       "0  On line 12, you can include deductions for cer...           0.396040   \n",
       "1  Individuals subject to the Department of Trans...           0.552036   \n",
       "\n",
       "   rougeL.precision  rougeL.recall  rougeL.f1  verbosity_ratio  \\\n",
       "0          0.107143       0.765957    0.18799         7.666667   \n",
       "1          0.174129       1.000000    0.29661         5.861111   \n",
       "\n",
       "   bertscore.precision  bertscore.recall  bertscore.f1  \\\n",
       "0             0.519463          0.698987      0.596000   \n",
       "1             0.544889          0.719462      0.620124   \n",
       "\n",
       "   faithfulness_selfcheckgpt  sentence_tranformers_similarity  \n",
       "0                   0.235826                         0.695160  \n",
       "1                   0.802549                         0.923374  "
      ]
     },
     "execution_count": 62,
     "metadata": {},
     "output_type": "execute_result"
    }
   ],
   "source": [
    "# convert the results to a pandas DataFrame for easier viewing, and clean up the column names\n",
    "o1_results_df = pd.json_normalize(o1_run_results)\n",
    "o1_results_df.columns = o1_results_df.columns.str.replace(\"values.\", \"\")\n",
    "\n",
    "o1_results_df.head(2)"
   ]
  },
  {
   "cell_type": "code",
   "execution_count": 63,
   "metadata": {},
   "outputs": [
    {
     "data": {
      "text/html": [
       "<div>\n",
       "<style scoped>\n",
       "    .dataframe tbody tr th:only-of-type {\n",
       "        vertical-align: middle;\n",
       "    }\n",
       "\n",
       "    .dataframe tbody tr th {\n",
       "        vertical-align: top;\n",
       "    }\n",
       "\n",
       "    .dataframe thead th {\n",
       "        text-align: right;\n",
       "    }\n",
       "</style>\n",
       "<table border=\"1\" class=\"dataframe\">\n",
       "  <thead>\n",
       "    <tr style=\"text-align: right;\">\n",
       "      <th></th>\n",
       "      <th>knowledge_f1score</th>\n",
       "      <th>rougeL.precision</th>\n",
       "      <th>rougeL.recall</th>\n",
       "      <th>rougeL.f1</th>\n",
       "      <th>verbosity_ratio</th>\n",
       "      <th>bertscore.precision</th>\n",
       "      <th>bertscore.recall</th>\n",
       "      <th>bertscore.f1</th>\n",
       "      <th>faithfulness_selfcheckgpt</th>\n",
       "      <th>sentence_tranformers_similarity</th>\n",
       "    </tr>\n",
       "  </thead>\n",
       "  <tbody>\n",
       "    <tr>\n",
       "      <th>count</th>\n",
       "      <td>44.000000</td>\n",
       "      <td>50.000000</td>\n",
       "      <td>50.000000</td>\n",
       "      <td>50.000000</td>\n",
       "      <td>50.000000</td>\n",
       "      <td>50.000000</td>\n",
       "      <td>50.000000</td>\n",
       "      <td>50.000000</td>\n",
       "      <td>44.000000</td>\n",
       "      <td>50.000000</td>\n",
       "    </tr>\n",
       "    <tr>\n",
       "      <th>mean</th>\n",
       "      <td>0.421435</td>\n",
       "      <td>0.142784</td>\n",
       "      <td>0.688717</td>\n",
       "      <td>0.204277</td>\n",
       "      <td>6.867114</td>\n",
       "      <td>0.484649</td>\n",
       "      <td>0.616980</td>\n",
       "      <td>0.541430</td>\n",
       "      <td>0.555248</td>\n",
       "      <td>0.743133</td>\n",
       "    </tr>\n",
       "    <tr>\n",
       "      <th>std</th>\n",
       "      <td>0.097360</td>\n",
       "      <td>0.164614</td>\n",
       "      <td>0.300584</td>\n",
       "      <td>0.151472</td>\n",
       "      <td>5.245580</td>\n",
       "      <td>0.193730</td>\n",
       "      <td>0.235497</td>\n",
       "      <td>0.209567</td>\n",
       "      <td>0.188713</td>\n",
       "      <td>0.289408</td>\n",
       "    </tr>\n",
       "    <tr>\n",
       "      <th>min</th>\n",
       "      <td>0.194030</td>\n",
       "      <td>0.000000</td>\n",
       "      <td>0.000000</td>\n",
       "      <td>0.000000</td>\n",
       "      <td>0.000000</td>\n",
       "      <td>0.000000</td>\n",
       "      <td>0.000000</td>\n",
       "      <td>0.000000</td>\n",
       "      <td>0.189165</td>\n",
       "      <td>-0.082330</td>\n",
       "    </tr>\n",
       "    <tr>\n",
       "      <th>25%</th>\n",
       "      <td>0.365410</td>\n",
       "      <td>0.059347</td>\n",
       "      <td>0.644643</td>\n",
       "      <td>0.110127</td>\n",
       "      <td>2.724864</td>\n",
       "      <td>0.482252</td>\n",
       "      <td>0.658650</td>\n",
       "      <td>0.558782</td>\n",
       "      <td>0.431831</td>\n",
       "      <td>0.744678</td>\n",
       "    </tr>\n",
       "    <tr>\n",
       "      <th>50%</th>\n",
       "      <td>0.405253</td>\n",
       "      <td>0.104676</td>\n",
       "      <td>0.765332</td>\n",
       "      <td>0.177666</td>\n",
       "      <td>6.209309</td>\n",
       "      <td>0.522055</td>\n",
       "      <td>0.684906</td>\n",
       "      <td>0.595822</td>\n",
       "      <td>0.562262</td>\n",
       "      <td>0.829765</td>\n",
       "    </tr>\n",
       "    <tr>\n",
       "      <th>75%</th>\n",
       "      <td>0.487654</td>\n",
       "      <td>0.140843</td>\n",
       "      <td>0.873641</td>\n",
       "      <td>0.243180</td>\n",
       "      <td>11.066092</td>\n",
       "      <td>0.572030</td>\n",
       "      <td>0.719395</td>\n",
       "      <td>0.632118</td>\n",
       "      <td>0.684640</td>\n",
       "      <td>0.906366</td>\n",
       "    </tr>\n",
       "    <tr>\n",
       "      <th>max</th>\n",
       "      <td>0.628571</td>\n",
       "      <td>1.000000</td>\n",
       "      <td>1.000000</td>\n",
       "      <td>0.533333</td>\n",
       "      <td>22.846154</td>\n",
       "      <td>0.781119</td>\n",
       "      <td>0.823285</td>\n",
       "      <td>0.759155</td>\n",
       "      <td>0.893481</td>\n",
       "      <td>0.963188</td>\n",
       "    </tr>\n",
       "  </tbody>\n",
       "</table>\n",
       "</div>"
      ],
      "text/plain": [
       "       knowledge_f1score  rougeL.precision  rougeL.recall  rougeL.f1  \\\n",
       "count          44.000000         50.000000      50.000000  50.000000   \n",
       "mean            0.421435          0.142784       0.688717   0.204277   \n",
       "std             0.097360          0.164614       0.300584   0.151472   \n",
       "min             0.194030          0.000000       0.000000   0.000000   \n",
       "25%             0.365410          0.059347       0.644643   0.110127   \n",
       "50%             0.405253          0.104676       0.765332   0.177666   \n",
       "75%             0.487654          0.140843       0.873641   0.243180   \n",
       "max             0.628571          1.000000       1.000000   0.533333   \n",
       "\n",
       "       verbosity_ratio  bertscore.precision  bertscore.recall  bertscore.f1  \\\n",
       "count        50.000000            50.000000         50.000000     50.000000   \n",
       "mean          6.867114             0.484649          0.616980      0.541430   \n",
       "std           5.245580             0.193730          0.235497      0.209567   \n",
       "min           0.000000             0.000000          0.000000      0.000000   \n",
       "25%           2.724864             0.482252          0.658650      0.558782   \n",
       "50%           6.209309             0.522055          0.684906      0.595822   \n",
       "75%          11.066092             0.572030          0.719395      0.632118   \n",
       "max          22.846154             0.781119          0.823285      0.759155   \n",
       "\n",
       "       faithfulness_selfcheckgpt  sentence_tranformers_similarity  \n",
       "count                  44.000000                        50.000000  \n",
       "mean                    0.555248                         0.743133  \n",
       "std                     0.188713                         0.289408  \n",
       "min                     0.189165                        -0.082330  \n",
       "25%                     0.431831                         0.744678  \n",
       "50%                     0.562262                         0.829765  \n",
       "75%                     0.684640                         0.906366  \n",
       "max                     0.893481                         0.963188  "
      ]
     },
     "execution_count": 63,
     "metadata": {},
     "output_type": "execute_result"
    }
   ],
   "source": [
    "# view statistics on the results\n",
    "o1_results_df.describe()"
   ]
  },
  {
   "cell_type": "markdown",
   "metadata": {
    "id": "0DOmYnGcBv7-"
   },
   "source": [
    "## Testing a New Model\n",
    "\n",
    "Next, we will run an evaluation on the same dataset and prompt, using the `DeepSeek-R1` model.\n",
    "\n",
    "NOTE: While the `o1` model does not include the model reasoning, the model completion for `DeepSeek-R1` includes both the reasoning/thinking and the response text. Quotient returns this full output, but only evaluates against any text after the end of the reasoning (i.e. only text following the `</think>` token). This means that if the model does not complete the thinking step within the specified `max_tokens`, there will be no response text and the response will be considered as `None`."
   ]
  },
  {
   "cell_type": "code",
   "execution_count": null,
   "metadata": {},
   "outputs": [
    {
     "name": "stdout",
     "output_type": "stream",
     "text": [
      "Run ID: 8c91dd2a-14e1-4ce0-a772-8d358200ceb5\n"
     ]
    }
   ],
   "source": [
    "# Set the new model\n",
    "deepseek_model = quotient.models.get(\"together_ai/deepseek-ai/DeepSeek-R1\")\n",
    "\n",
    "# create a run with all of the metrics we care about\n",
    "deepseek_run = quotient.evaluate(\n",
    "    prompt=prompt,\n",
    "    dataset=dataset,\n",
    "    model=deepseek_model,\n",
    "    parameters={\n",
    "        \"max_tokens\": 1500,\n",
    "    },\n",
    "    metrics=metrics,\n",
    ")\n",
    "\n",
    "print(\"Run ID:\", deepseek_run.id)"
   ]
  },
  {
   "cell_type": "code",
   "execution_count": 103,
   "metadata": {},
   "outputs": [
    {
     "name": "stdout",
     "output_type": "stream",
     "text": [
      "Status:  completed\n"
     ]
    },
    {
     "data": {
      "text/html": [
       "<div>\n",
       "<style scoped>\n",
       "    .dataframe tbody tr th:only-of-type {\n",
       "        vertical-align: middle;\n",
       "    }\n",
       "\n",
       "    .dataframe tbody tr th {\n",
       "        vertical-align: top;\n",
       "    }\n",
       "\n",
       "    .dataframe thead th {\n",
       "        text-align: right;\n",
       "    }\n",
       "</style>\n",
       "<table border=\"1\" class=\"dataframe\">\n",
       "  <thead>\n",
       "    <tr style=\"text-align: right;\">\n",
       "      <th></th>\n",
       "      <th>id</th>\n",
       "      <th>input</th>\n",
       "      <th>output</th>\n",
       "      <th>created_at</th>\n",
       "      <th>created_by</th>\n",
       "      <th>context</th>\n",
       "      <th>expected</th>\n",
       "      <th>knowledge_f1score</th>\n",
       "      <th>rougeL.precision</th>\n",
       "      <th>rougeL.recall</th>\n",
       "      <th>rougeL.f1</th>\n",
       "      <th>verbosity_ratio</th>\n",
       "      <th>bertscore.precision</th>\n",
       "      <th>bertscore.recall</th>\n",
       "      <th>bertscore.f1</th>\n",
       "      <th>faithfulness_selfcheckgpt</th>\n",
       "      <th>sentence_tranformers_similarity</th>\n",
       "      <th>rougeL</th>\n",
       "      <th>bertscore</th>\n",
       "    </tr>\n",
       "  </thead>\n",
       "  <tbody>\n",
       "    <tr>\n",
       "      <th>0</th>\n",
       "      <td>334eba89-071b-4c89-8e2a-521b7c26151d</td>\n",
       "      <td>What types of expenses can be included as dedu...</td>\n",
       "      <td>&lt;think&gt;\\nOkay, let's tackle this question abou...</td>\n",
       "      <td>2025-02-24T19:21:25.528905</td>\n",
       "      <td>9842a2b1-f666-4e18-9233-7cb0694355f9</td>\n",
       "      <td>Include the following deductions on  \\nline 12...</td>\n",
       "      <td>On line 12, you can include deductions for cer...</td>\n",
       "      <td>0.381295</td>\n",
       "      <td>0.161458</td>\n",
       "      <td>0.659574</td>\n",
       "      <td>0.259414</td>\n",
       "      <td>4.222222</td>\n",
       "      <td>0.555956</td>\n",
       "      <td>0.730454</td>\n",
       "      <td>0.631370</td>\n",
       "      <td>0.486739</td>\n",
       "      <td>0.880093</td>\n",
       "      <td>NaN</td>\n",
       "      <td>NaN</td>\n",
       "    </tr>\n",
       "    <tr>\n",
       "      <th>1</th>\n",
       "      <td>426b90a4-387b-47e1-8fdf-651fcd7beaee</td>\n",
       "      <td>What percentage of business meal expenses can ...</td>\n",
       "      <td>&lt;think&gt;\\nOkay, let's tackle this question. The...</td>\n",
       "      <td>2025-02-24T19:22:38.376161</td>\n",
       "      <td>9842a2b1-f666-4e18-9233-7cb0694355f9</td>\n",
       "      <td>The standard meal allowance is the federal mea...</td>\n",
       "      <td>Individuals subject to the Department of Trans...</td>\n",
       "      <td>0.543689</td>\n",
       "      <td>0.225564</td>\n",
       "      <td>0.857143</td>\n",
       "      <td>0.357143</td>\n",
       "      <td>3.555556</td>\n",
       "      <td>0.548232</td>\n",
       "      <td>0.728883</td>\n",
       "      <td>0.625781</td>\n",
       "      <td>0.835164</td>\n",
       "      <td>0.912978</td>\n",
       "      <td>NaN</td>\n",
       "      <td>NaN</td>\n",
       "    </tr>\n",
       "  </tbody>\n",
       "</table>\n",
       "</div>"
      ],
      "text/plain": [
       "                                     id  \\\n",
       "0  334eba89-071b-4c89-8e2a-521b7c26151d   \n",
       "1  426b90a4-387b-47e1-8fdf-651fcd7beaee   \n",
       "\n",
       "                                               input  \\\n",
       "0  What types of expenses can be included as dedu...   \n",
       "1  What percentage of business meal expenses can ...   \n",
       "\n",
       "                                              output  \\\n",
       "0  <think>\\nOkay, let's tackle this question abou...   \n",
       "1  <think>\\nOkay, let's tackle this question. The...   \n",
       "\n",
       "                   created_at                            created_by  \\\n",
       "0  2025-02-24T19:21:25.528905  9842a2b1-f666-4e18-9233-7cb0694355f9   \n",
       "1  2025-02-24T19:22:38.376161  9842a2b1-f666-4e18-9233-7cb0694355f9   \n",
       "\n",
       "                                             context  \\\n",
       "0  Include the following deductions on  \\nline 12...   \n",
       "1  The standard meal allowance is the federal mea...   \n",
       "\n",
       "                                            expected  knowledge_f1score  \\\n",
       "0  On line 12, you can include deductions for cer...           0.381295   \n",
       "1  Individuals subject to the Department of Trans...           0.543689   \n",
       "\n",
       "   rougeL.precision  rougeL.recall  rougeL.f1  verbosity_ratio  \\\n",
       "0          0.161458       0.659574   0.259414         4.222222   \n",
       "1          0.225564       0.857143   0.357143         3.555556   \n",
       "\n",
       "   bertscore.precision  bertscore.recall  bertscore.f1  \\\n",
       "0             0.555956          0.730454      0.631370   \n",
       "1             0.548232          0.728883      0.625781   \n",
       "\n",
       "   faithfulness_selfcheckgpt  sentence_tranformers_similarity  rougeL  \\\n",
       "0                   0.486739                         0.880093     NaN   \n",
       "1                   0.835164                         0.912978     NaN   \n",
       "\n",
       "   bertscore  \n",
       "0        NaN  \n",
       "1        NaN  "
      ]
     },
     "execution_count": 103,
     "metadata": {},
     "output_type": "execute_result"
    }
   ],
   "source": [
    "while quotient.runs.get(deepseek_run.id).status in [\"not-started\", \"running\"]:\n",
    "    time.sleep(10)\n",
    "    pass\n",
    "\n",
    "print(\"Status: \", quotient.runs.get(deepseek_run.id).status)\n",
    "\n",
    "# get the run results\n",
    "deepseek_run_results = quotient.runs.get(deepseek_run.id).results\n",
    "\n",
    "# convert the results to a pandas DataFrame for easier viewing, and clean up the column names\n",
    "deepseek_results_df = pd.json_normalize(deepseek_run_results)\n",
    "deepseek_results_df.columns = deepseek_results_df.columns.str.replace(\"values.\", \"\")\n",
    "\n",
    "deepseek_results_df.head(2)"
   ]
  },
  {
   "cell_type": "code",
   "execution_count": 64,
   "metadata": {},
   "outputs": [
    {
     "data": {
      "text/html": [
       "<div>\n",
       "<style scoped>\n",
       "    .dataframe tbody tr th:only-of-type {\n",
       "        vertical-align: middle;\n",
       "    }\n",
       "\n",
       "    .dataframe tbody tr th {\n",
       "        vertical-align: top;\n",
       "    }\n",
       "\n",
       "    .dataframe thead th {\n",
       "        text-align: right;\n",
       "    }\n",
       "</style>\n",
       "<table border=\"1\" class=\"dataframe\">\n",
       "  <thead>\n",
       "    <tr style=\"text-align: right;\">\n",
       "      <th></th>\n",
       "      <th>knowledge_f1score</th>\n",
       "      <th>rougeL.precision</th>\n",
       "      <th>rougeL.recall</th>\n",
       "      <th>rougeL.f1</th>\n",
       "      <th>verbosity_ratio</th>\n",
       "      <th>bertscore.precision</th>\n",
       "      <th>bertscore.recall</th>\n",
       "      <th>bertscore.f1</th>\n",
       "      <th>faithfulness_selfcheckgpt</th>\n",
       "      <th>sentence_tranformers_similarity</th>\n",
       "      <th>rougeL</th>\n",
       "      <th>bertscore</th>\n",
       "    </tr>\n",
       "  </thead>\n",
       "  <tbody>\n",
       "    <tr>\n",
       "      <th>count</th>\n",
       "      <td>49.000000</td>\n",
       "      <td>49.000000</td>\n",
       "      <td>49.000000</td>\n",
       "      <td>49.000000</td>\n",
       "      <td>49.000000</td>\n",
       "      <td>49.000000</td>\n",
       "      <td>49.000000</td>\n",
       "      <td>49.000000</td>\n",
       "      <td>49.000000</td>\n",
       "      <td>49.000000</td>\n",
       "      <td>0.0</td>\n",
       "      <td>0.0</td>\n",
       "    </tr>\n",
       "    <tr>\n",
       "      <th>mean</th>\n",
       "      <td>0.449712</td>\n",
       "      <td>0.156411</td>\n",
       "      <td>0.740019</td>\n",
       "      <td>0.244914</td>\n",
       "      <td>6.684316</td>\n",
       "      <td>0.548511</td>\n",
       "      <td>0.708916</td>\n",
       "      <td>0.617724</td>\n",
       "      <td>0.508562</td>\n",
       "      <td>0.849025</td>\n",
       "      <td>NaN</td>\n",
       "      <td>NaN</td>\n",
       "    </tr>\n",
       "    <tr>\n",
       "      <th>std</th>\n",
       "      <td>0.099849</td>\n",
       "      <td>0.098322</td>\n",
       "      <td>0.139289</td>\n",
       "      <td>0.123163</td>\n",
       "      <td>7.000538</td>\n",
       "      <td>0.062894</td>\n",
       "      <td>0.051344</td>\n",
       "      <td>0.056813</td>\n",
       "      <td>0.161678</td>\n",
       "      <td>0.069109</td>\n",
       "      <td>NaN</td>\n",
       "      <td>NaN</td>\n",
       "    </tr>\n",
       "    <tr>\n",
       "      <th>min</th>\n",
       "      <td>0.160377</td>\n",
       "      <td>0.018962</td>\n",
       "      <td>0.400000</td>\n",
       "      <td>0.037218</td>\n",
       "      <td>1.514620</td>\n",
       "      <td>0.357191</td>\n",
       "      <td>0.534878</td>\n",
       "      <td>0.428338</td>\n",
       "      <td>0.150244</td>\n",
       "      <td>0.638129</td>\n",
       "      <td>NaN</td>\n",
       "      <td>NaN</td>\n",
       "    </tr>\n",
       "    <tr>\n",
       "      <th>25%</th>\n",
       "      <td>0.384058</td>\n",
       "      <td>0.081579</td>\n",
       "      <td>0.627907</td>\n",
       "      <td>0.145199</td>\n",
       "      <td>3.543860</td>\n",
       "      <td>0.506644</td>\n",
       "      <td>0.686844</td>\n",
       "      <td>0.582580</td>\n",
       "      <td>0.395379</td>\n",
       "      <td>0.814459</td>\n",
       "      <td>NaN</td>\n",
       "      <td>NaN</td>\n",
       "    </tr>\n",
       "    <tr>\n",
       "      <th>50%</th>\n",
       "      <td>0.454054</td>\n",
       "      <td>0.128342</td>\n",
       "      <td>0.736842</td>\n",
       "      <td>0.205882</td>\n",
       "      <td>5.551724</td>\n",
       "      <td>0.546793</td>\n",
       "      <td>0.701902</td>\n",
       "      <td>0.616680</td>\n",
       "      <td>0.500755</td>\n",
       "      <td>0.849087</td>\n",
       "      <td>NaN</td>\n",
       "      <td>NaN</td>\n",
       "    </tr>\n",
       "    <tr>\n",
       "      <th>75%</th>\n",
       "      <td>0.508333</td>\n",
       "      <td>0.192308</td>\n",
       "      <td>0.846154</td>\n",
       "      <td>0.300752</td>\n",
       "      <td>7.685714</td>\n",
       "      <td>0.580631</td>\n",
       "      <td>0.730454</td>\n",
       "      <td>0.657798</td>\n",
       "      <td>0.605395</td>\n",
       "      <td>0.908473</td>\n",
       "      <td>NaN</td>\n",
       "      <td>NaN</td>\n",
       "    </tr>\n",
       "    <tr>\n",
       "      <th>max</th>\n",
       "      <td>0.660944</td>\n",
       "      <td>0.460526</td>\n",
       "      <td>1.000000</td>\n",
       "      <td>0.598291</td>\n",
       "      <td>50.285714</td>\n",
       "      <td>0.704239</td>\n",
       "      <td>0.841967</td>\n",
       "      <td>0.766969</td>\n",
       "      <td>0.936263</td>\n",
       "      <td>0.959423</td>\n",
       "      <td>NaN</td>\n",
       "      <td>NaN</td>\n",
       "    </tr>\n",
       "  </tbody>\n",
       "</table>\n",
       "</div>"
      ],
      "text/plain": [
       "       knowledge_f1score  rougeL.precision  rougeL.recall  rougeL.f1  \\\n",
       "count          49.000000         49.000000      49.000000  49.000000   \n",
       "mean            0.449712          0.156411       0.740019   0.244914   \n",
       "std             0.099849          0.098322       0.139289   0.123163   \n",
       "min             0.160377          0.018962       0.400000   0.037218   \n",
       "25%             0.384058          0.081579       0.627907   0.145199   \n",
       "50%             0.454054          0.128342       0.736842   0.205882   \n",
       "75%             0.508333          0.192308       0.846154   0.300752   \n",
       "max             0.660944          0.460526       1.000000   0.598291   \n",
       "\n",
       "       verbosity_ratio  bertscore.precision  bertscore.recall  bertscore.f1  \\\n",
       "count        49.000000            49.000000         49.000000     49.000000   \n",
       "mean          6.684316             0.548511          0.708916      0.617724   \n",
       "std           7.000538             0.062894          0.051344      0.056813   \n",
       "min           1.514620             0.357191          0.534878      0.428338   \n",
       "25%           3.543860             0.506644          0.686844      0.582580   \n",
       "50%           5.551724             0.546793          0.701902      0.616680   \n",
       "75%           7.685714             0.580631          0.730454      0.657798   \n",
       "max          50.285714             0.704239          0.841967      0.766969   \n",
       "\n",
       "       faithfulness_selfcheckgpt  sentence_tranformers_similarity  rougeL  \\\n",
       "count                  49.000000                        49.000000     0.0   \n",
       "mean                    0.508562                         0.849025     NaN   \n",
       "std                     0.161678                         0.069109     NaN   \n",
       "min                     0.150244                         0.638129     NaN   \n",
       "25%                     0.395379                         0.814459     NaN   \n",
       "50%                     0.500755                         0.849087     NaN   \n",
       "75%                     0.605395                         0.908473     NaN   \n",
       "max                     0.936263                         0.959423     NaN   \n",
       "\n",
       "       bertscore  \n",
       "count        0.0  \n",
       "mean         NaN  \n",
       "std          NaN  \n",
       "min          NaN  \n",
       "25%          NaN  \n",
       "50%          NaN  \n",
       "75%          NaN  \n",
       "max          NaN  "
      ]
     },
     "execution_count": 64,
     "metadata": {},
     "output_type": "execute_result"
    }
   ],
   "source": [
    "# view statistics on the results\n",
    "deepseek_results_df.describe()"
   ]
  },
  {
   "cell_type": "markdown",
   "metadata": {},
   "source": [
    "You can see that while we completed the run on 50 rows, only 49 rows returned with a response (one row did not complete the `think` step and therefore had no response to evaluate against)."
   ]
  },
  {
   "cell_type": "markdown",
   "metadata": {
    "id": "Ker_Rm-L95WI"
   },
   "source": [
    "## Comparing Model Results"
   ]
  },
  {
   "cell_type": "code",
   "execution_count": 85,
   "metadata": {
    "colab": {
     "base_uri": "https://localhost:8080/",
     "height": 570
    },
    "id": "Y3P-pyunv9W6",
    "outputId": "e777b358-3caf-4e83-98a3-8973294cc7e3"
   },
   "outputs": [
    {
     "data": {
      "image/png": "[encoded data removed]",
      "text/plain": [
       "<Figure size 1200x500 with 2 Axes>"
      ]
     },
     "metadata": {},
     "output_type": "display_data"
    }
   ],
   "source": [
    "# Merge the two runs into one DataFrame for easier plotting\n",
    "o1_stats = o1_results_df.describe().loc['mean']\n",
    "o1_stats.name = \"o1\"\n",
    "\n",
    "deepseek_stats = deepseek_results_df.describe().loc['mean'].drop(index=['rougeL', 'bertscore'])\n",
    "deepseek_stats.name = \"DeepSeek-R1\"\n",
    "\n",
    "experiments = pd.concat([o1_stats, deepseek_stats], axis=1)\n",
    "\n",
    "# Plot the results from the two runs\n",
    "f, (a0, a1) = plt.subplots(1, 2, gridspec_kw={'width_ratios': [7, 1]}, figsize=(12,5))\n",
    "\n",
    "experiments.drop(\n",
    "  ['verbosity_ratio']\n",
    "  ).plot(\n",
    "    ax=a0, \n",
    "    kind='bar',\n",
    "    ylim=[0,1.1],\n",
    "    width=0.7,\n",
    "    xlabel='Metric',\n",
    "    ylabel=\"Score\",\n",
    "    title='IRS Form Instruction QA Benchmark',\n",
    "    color=[\"#CEC825\", \"#65AEEA\"],\n",
    "    edgecolor=\"w\", \n",
    "    linewidth=2\n",
    "  )\n",
    "\n",
    "experiments.loc[\n",
    "  ['verbosity_ratio']\n",
    "  ].plot(\n",
    "    ax=a1,\n",
    "    kind='bar',\n",
    "    ylim=[0,10],\n",
    "    width=0.7,\n",
    "    legend=False,\n",
    "    color=[\"#CEC825\", \"#65AEEA\"],\n",
    "    edgecolor=\"w\", \n",
    "    linewidth=2\n",
    "    )\n",
    "\n",
    "for container in a1.containers:\n",
    "  a1.bar_label(container, fmt='%.2f', rotation=90)\n",
    "\n",
    "for container in a0.containers:\n",
    "  a0.bar_label(container, fmt='%.2f', rotation=90)"
   ]
  },
  {
   "cell_type": "markdown",
   "metadata": {},
   "source": [
    "Across nearly all metrics, `DeepSeek-R1` considerably outperforms OpenAI's `o1` model. Both models are fairly verbose, indicating that the `max_tokens` parameter can be lowered (though this may risk incomplete model responses due to the tokens used during reasoning). Interestingly, `o1` outperforms `DeepSeek-R1` in the faithfulness metric. To better understand why, let's look at the worst performing rows on `faithfulness_selfcheckgpt` for each model."
   ]
  },
  {
   "cell_type": "code",
   "execution_count": 97,
   "metadata": {
    "colab": {
     "base_uri": "https://localhost:8080/",
     "height": 1000
    },
    "id": "R5YeN4RrL7rH",
    "outputId": "306c22ba-7aa5-4b69-d55f-2c0079ddd3f3"
   },
   "outputs": [
    {
     "name": "stdout",
     "output_type": "stream",
     "text": [
      "Worst Faithfulness performers\n",
      "\n",
      "o1:\n"
     ]
    },
    {
     "data": {
      "text/html": [
       "<div>\n",
       "<style scoped>\n",
       "    .dataframe tbody tr th:only-of-type {\n",
       "        vertical-align: middle;\n",
       "    }\n",
       "\n",
       "    .dataframe tbody tr th {\n",
       "        vertical-align: top;\n",
       "    }\n",
       "\n",
       "    .dataframe thead th {\n",
       "        text-align: right;\n",
       "    }\n",
       "</style>\n",
       "<table border=\"1\" class=\"dataframe\">\n",
       "  <thead>\n",
       "    <tr style=\"text-align: right;\">\n",
       "      <th></th>\n",
       "      <th>context</th>\n",
       "      <th>output</th>\n",
       "      <th>faithfulness_selfcheckgpt</th>\n",
       "    </tr>\n",
       "  </thead>\n",
       "  <tbody>\n",
       "    <tr>\n",
       "      <th>36</th>\n",
       "      <td>4.\\n\\n\\_\\_\\_\\_\\_\\n\\n \\n\\n \\n\\n  \\n![This is an Image: caution.gif](/pub/xml_bc/caution.gif) Electing to include nontaxable combat pay may increase or decrease your EIC. Figure the credit with and without your nontaxable combat pay before making the election.\\n\\n \\n\\n**5.**\\n\\nAdd lines 3 and 4.  \\n**This is your earned income**\\n\\n**5.**\\n\\n\\_\\_\\_\\_\\_\\n\\n \\n\\n \\n\\n \\n\\n**2\\.** Were you self-employed at any time in 2024, or are you filing Schedule SE because you were a member of the clergy or you had church employee income, or are you filing Schedule C as a statutory employee?\\n\\n \\n\\n![This is an Image: squ.gif](/pub/xml_bc/squ.gif)\\n\\n\\[ \\]\\n\\n**Yes.**\\n\\nSkip question 3 and Step 6; go to Worksheet B.\\n\\n \\n\\n![This is an Image: squ.gif](/pub/xml_bc/squ.gif)\\n\\n\\[ \\]\\n\\n**No.**\\n\\n**3\\.** If you have:\\n\\n*   3 or more qualifying children who have valid SSNs, is your earned income less than $59,899 ($66,819 if married filing jointly)?\\n    \\n*   2 qualifying children who have valid SSNs, is your earned income less than $55,768 ($62,688 if married filing jointly)?\\n    \\n*   1 qualifying child who has a valid SSN, is your earned income less than $49,084 ($56,004 if married filing jointly)?\\n    \\n*   No qualifying children who have valid SSNs, is your earned income less than $18,591 ($25,511 if married filing jointly)?\\n    \\n\\n \\n\\n![This is an Image: squ.gif](/pub/xml_bc/squ.gif)\\n\\n\\[ \\]\\n\\n**Yes.**\\n\\nGo to Step 6.\\n\\n \\n\\n![This is an Image: squ.gif](/pub/xml_bc/squ.gif)\\n\\n\\[ \\]\\n\\n**No.**\\n\\nYou can't take the credit.\\n\\n##### Step 6. How To Figure the Credit\\n\\n**1\\.** Do you want the IRS to figure the credit for you?\\n\\n \\n\\n![This is an Image: squ.gif](/pub/xml_bc/squ.gif)\\n\\n\\[ \\]\\n\\n**Yes.**\\n\\nSee Credit figured by the IRS, later.\\n\\n \\n\\n![This is an Image: squ.gif](/pub/xml_bc/squ.gif)\\n\\n\\[ \\]\\n\\n**No.**\\n\\nGo to Worksheet A.\\n\\n#### Definitions and Special Rules\\n\\n**Adopted child.**\\n\\nAn adopted child is always treated as your own child. An adopted child includes a child lawfully placed with you for legal adoption.\\n\\n**Church employees.**</td>\n",
       "      <td>If you want to include your **nontaxable combat pay** in your **Earned Income Credit (EIC)** calculation, you can choose to do so by making an election on your tax return. Including nontaxable combat pay may increase or decrease your EIC, so it's important to calculate the credit both ways to determine which option is more beneficial for you.\\n\\nHere are the steps you should follow:\\n\\n1. **Locate Your Nontaxable Combat Pay Amount:**\\n   - Find your Form W-2 from your military employer.\\n   - Look for Box 12 with Code Q; this box reports your nontaxable combat pay.\\n\\n2. **Calculate the EIC Both Ways:**\\n   - **Without Nontaxable Combat Pay:**\\n     - Use your earned income excluding nontaxable combat pay.\\n     - Complete the EIC Worksheet (usually found in the IRS instructions for Form 1040) using this amount.\\n   - **With Nontaxable Combat Pay:**\\n     - Add your nontaxable combat pay to your earned income.\\n     - Complete a second EIC Worksheet using this new total.\\n\\n3. **Compare the Results:**\\n   - Determine which calculation provides a higher EIC amount.\\n\\n4. **Make the Election:**\\n   - If including the nontaxable combat pay results in a higher EIC (or if you prefer to include it for any reason), you can elect to include it.\\n   - On your tax return (Form 1040), there is a designated line or checkbox to indicate this election. For the correct placement:\\n     - Refer to the instructions for the specific tax year you are filing, as line numbers may change.\\n     - Typically, you will enter the amount of your nontaxable combat pay on the line labeled \"Nontaxable combat pay election.\"\\n\\n5. **Complete Your Tax Return:**\\n   - Continue filling out your tax return using the information from the EIC Worksheet that includes your elected nontaxable combat pay, if you've chosen to include it.\\n   - Attach any required forms or schedules as instructed.\\n\\n**Additional Tips:**\\n\\n- **Documentation:** Keep a copy of both calculations for your records, even though only one will be submitted with your tax return.\\n- **Software Assistance:** If you are using tax preparation software, it often can compute the EIC both ways automatically when you enter your nontaxable combat pay. Review the results to make</td>\n",
       "      <td>0.189165</td>\n",
       "    </tr>\n",
       "    <tr>\n",
       "      <th>11</th>\n",
       "      <td>Include fees for tax advice related to your business and for preparation of the tax forms related to your business. Also, include expenses incurred in resolving asserted tax deficiencies related to your business.\\n\\nFor more information, see [Pub. 334](https://www.irs.gov/forms-pubs/about-publication-334).\\n\\n#### Line 18\\n\\nInclude on this line your expenses for  \\noffice supplies and postage.\\n\\n#### Line 19\\n\\nEnter your deduction for the contributions you made for the benefit of your employees to a pension, profit-sharing, or annuity plan (including SEP, SIMPLE, and SARSEP plans described in Pub. 560). If the plan included you as a self-employed person, enter the contributions made as an employer on your behalf on Schedule 1 (Form 1040), line 16, not on Schedule C.\\n\\nThis deduction may be subject to limitations. For more information on potential limitations, see Pub. 560.\\n\\nIn most cases, you must file the applicable form listed below if you maintain a pension, profit-sharing, or other funded-deferred compensation plan. The filing requirement is not affected by whether or not the plan qualified under the Internal Revenue Code, or whether or not you claim a deduction for the current tax year. There is a penalty for failure to timely file these forms.\\n\\n**Form 5500-EZ.**\\n\\nFile this form if you have a one-participant retirement plan that meets certain requirements. A one-participant plan is a plan that covers only you (or you and your spouse).\\n\\n**Form 5500-SF.**\\n\\nFile this form electronically with the Department of Labor (at [efast.dol.gov](https://www.efast.dol.gov/welcome.html)) if you have a small plan (fewer than 100 participants in most cases) that meets certain requirements.\\n\\n**Form 5500.**\\n\\nFile this form electronically with the Department of Labor (at [efast.dol.gov](https://www.efast.dol.gov/welcome.html)) for a plan that does not meet the requirements for filing Form 5500-EZ or Form 5500-SF.\\n\\nFor details, see Pub. 560.\\n\\n#### Lines 20a and 20b</td>\n",
       "      <td>**Line 18 on IRS Schedule C (Form 1040) is designated for \"Office Expense.\"** This line is used to report expenses related to the operation of your business office, which are ordinary and necessary for your business activities.\\n\\nExpenses you should include on **Line 18** are:\\n\\n- **Office Supplies:** This includes items such as pens, paper, notebooks, printer ink, folders, envelopes, and other consumable supplies used in your office.\\n- **Postage and Shipping Costs:** Costs for mailing business correspondence, shipping products to customers, or sending documents.\\n- **Small Office Equipment:** Items like calculators, small printers, or other equipment with a short useful life (typically less than one year) that do not need to be depreciated.\\n- **Software and Subscriptions:** Costs for software licenses or subscriptions used primarily for office tasks (e.g., word processing, spreadsheets, email clients) if not capitalized.\\n- **Office Repairs and Maintenance:** Minor repairs or maintenance costs for your office space that are not capital improvements.\\n- **Cleaning and Janitorial Supplies:** Expenses for keeping your office space clean.\\n\\n**Please Note:**\\n\\n- **Fees for Tax Advice and Tax Preparation:** Expenses for tax advice related to your business and preparation of business tax forms should be reported on **Line 17** (\"Legal and Professional Services\"), not Line 18.\\n- **Expenses for Resolving Tax Deficiencies:** Costs incurred in resolving asserted tax deficiencies related to your business are also reported on **Line 17**.\\n- **Capital Expenses:** Do not include the cost of long-term assets (e.g., office furniture, computers) that must be capitalized and depreciated over time. These are typically reported in Part II (Expenses) under \"Depreciation and Section 179 Expense Deduction\" or on Form 4562.\\n\\nFor more detailed information, you can refer to [IRS Publication 334, Tax Guide for Small Business](https://www.irs.gov/forms-pubs/about-publication-334), which provides guidance on business expenses and how to report them.\\n\\n**Summary:**\\n\\n- **Include on Line 18:** Office</td>\n",
       "      <td>0.208914</td>\n",
       "    </tr>\n",
       "  </tbody>\n",
       "</table>\n",
       "</div>"
      ],
      "text/plain": [
       "                                                                                                                                                                                                                                                                                                                                                                                                                                                                                                                                                                                                                                                                                                                                                                                                                                                                                                                                                                                                                                                                                                                                                                                                                                                                                                                                                                                                                                                                                                                                                                                                                                                                                                                                                                                                                                                                                                                                                                                                                                                                                                                                                                          context  \\\n",
       "36  4.\\n\\n\\_\\_\\_\\_\\_\\n\\n \\n\\n \\n\\n  \\n![This is an Image: caution.gif](/pub/xml_bc/caution.gif) Electing to include nontaxable combat pay may increase or decrease your EIC. Figure the credit with and without your nontaxable combat pay before making the election.\\n\\n \\n\\n**5.**\\n\\nAdd lines 3 and 4.  \\n**This is your earned income**\\n\\n**5.**\\n\\n\\_\\_\\_\\_\\_\\n\\n \\n\\n \\n\\n \\n\\n**2\\.** Were you self-employed at any time in 2024, or are you filing Schedule SE because you were a member of the clergy or you had church employee income, or are you filing Schedule C as a statutory employee?\\n\\n \\n\\n![This is an Image: squ.gif](/pub/xml_bc/squ.gif)\\n\\n\\[ \\]\\n\\n**Yes.**\\n\\nSkip question 3 and Step 6; go to Worksheet B.\\n\\n \\n\\n![This is an Image: squ.gif](/pub/xml_bc/squ.gif)\\n\\n\\[ \\]\\n\\n**No.**\\n\\n**3\\.** If you have:\\n\\n*   3 or more qualifying children who have valid SSNs, is your earned income less than $59,899 ($66,819 if married filing jointly)?\\n    \\n*   2 qualifying children who have valid SSNs, is your earned income less than $55,768 ($62,688 if married filing jointly)?\\n    \\n*   1 qualifying child who has a valid SSN, is your earned income less than $49,084 ($56,004 if married filing jointly)?\\n    \\n*   No qualifying children who have valid SSNs, is your earned income less than $18,591 ($25,511 if married filing jointly)?\\n    \\n\\n \\n\\n![This is an Image: squ.gif](/pub/xml_bc/squ.gif)\\n\\n\\[ \\]\\n\\n**Yes.**\\n\\nGo to Step 6.\\n\\n \\n\\n![This is an Image: squ.gif](/pub/xml_bc/squ.gif)\\n\\n\\[ \\]\\n\\n**No.**\\n\\nYou can't take the credit.\\n\\n##### Step 6. How To Figure the Credit\\n\\n**1\\.** Do you want the IRS to figure the credit for you?\\n\\n \\n\\n![This is an Image: squ.gif](/pub/xml_bc/squ.gif)\\n\\n\\[ \\]\\n\\n**Yes.**\\n\\nSee Credit figured by the IRS, later.\\n\\n \\n\\n![This is an Image: squ.gif](/pub/xml_bc/squ.gif)\\n\\n\\[ \\]\\n\\n**No.**\\n\\nGo to Worksheet A.\\n\\n#### Definitions and Special Rules\\n\\n**Adopted child.**\\n\\nAn adopted child is always treated as your own child. An adopted child includes a child lawfully placed with you for legal adoption.\\n\\n**Church employees.**   \n",
       "11  Include fees for tax advice related to your business and for preparation of the tax forms related to your business. Also, include expenses incurred in resolving asserted tax deficiencies related to your business.\\n\\nFor more information, see [Pub. 334](https://www.irs.gov/forms-pubs/about-publication-334).\\n\\n#### Line 18\\n\\nInclude on this line your expenses for  \\noffice supplies and postage.\\n\\n#### Line 19\\n\\nEnter your deduction for the contributions you made for the benefit of your employees to a pension, profit-sharing, or annuity plan (including SEP, SIMPLE, and SARSEP plans described in Pub. 560). If the plan included you as a self-employed person, enter the contributions made as an employer on your behalf on Schedule 1 (Form 1040), line 16, not on Schedule C.\\n\\nThis deduction may be subject to limitations. For more information on potential limitations, see Pub. 560.\\n\\nIn most cases, you must file the applicable form listed below if you maintain a pension, profit-sharing, or other funded-deferred compensation plan. The filing requirement is not affected by whether or not the plan qualified under the Internal Revenue Code, or whether or not you claim a deduction for the current tax year. There is a penalty for failure to timely file these forms.\\n\\n**Form 5500-EZ.**\\n\\nFile this form if you have a one-participant retirement plan that meets certain requirements. A one-participant plan is a plan that covers only you (or you and your spouse).\\n\\n**Form 5500-SF.**\\n\\nFile this form electronically with the Department of Labor (at [efast.dol.gov](https://www.efast.dol.gov/welcome.html)) if you have a small plan (fewer than 100 participants in most cases) that meets certain requirements.\\n\\n**Form 5500.**\\n\\nFile this form electronically with the Department of Labor (at [efast.dol.gov](https://www.efast.dol.gov/welcome.html)) for a plan that does not meet the requirements for filing Form 5500-EZ or Form 5500-SF.\\n\\nFor details, see Pub. 560.\\n\\n#### Lines 20a and 20b                                                                                            \n",
       "\n",
       "                                                                                                                                                                                                                                                                                                                                                                                                                                                                                                                                                                                                                                                                                                                                                                                                                                                                                                                                                                                                                                                                                                                                                                                                                                                                                                                                                                                                                                                                                                                                                                                                                                                                                                                                                                                                                                                                                                                                                                                                                                                                                                                                                                                                                                                                                                                              output  \\\n",
       "36  If you want to include your **nontaxable combat pay** in your **Earned Income Credit (EIC)** calculation, you can choose to do so by making an election on your tax return. Including nontaxable combat pay may increase or decrease your EIC, so it's important to calculate the credit both ways to determine which option is more beneficial for you.\\n\\nHere are the steps you should follow:\\n\\n1. **Locate Your Nontaxable Combat Pay Amount:**\\n   - Find your Form W-2 from your military employer.\\n   - Look for Box 12 with Code Q; this box reports your nontaxable combat pay.\\n\\n2. **Calculate the EIC Both Ways:**\\n   - **Without Nontaxable Combat Pay:**\\n     - Use your earned income excluding nontaxable combat pay.\\n     - Complete the EIC Worksheet (usually found in the IRS instructions for Form 1040) using this amount.\\n   - **With Nontaxable Combat Pay:**\\n     - Add your nontaxable combat pay to your earned income.\\n     - Complete a second EIC Worksheet using this new total.\\n\\n3. **Compare the Results:**\\n   - Determine which calculation provides a higher EIC amount.\\n\\n4. **Make the Election:**\\n   - If including the nontaxable combat pay results in a higher EIC (or if you prefer to include it for any reason), you can elect to include it.\\n   - On your tax return (Form 1040), there is a designated line or checkbox to indicate this election. For the correct placement:\\n     - Refer to the instructions for the specific tax year you are filing, as line numbers may change.\\n     - Typically, you will enter the amount of your nontaxable combat pay on the line labeled \"Nontaxable combat pay election.\"\\n\\n5. **Complete Your Tax Return:**\\n   - Continue filling out your tax return using the information from the EIC Worksheet that includes your elected nontaxable combat pay, if you've chosen to include it.\\n   - Attach any required forms or schedules as instructed.\\n\\n**Additional Tips:**\\n\\n- **Documentation:** Keep a copy of both calculations for your records, even though only one will be submitted with your tax return.\\n- **Software Assistance:** If you are using tax preparation software, it often can compute the EIC both ways automatically when you enter your nontaxable combat pay. Review the results to make   \n",
       "11  **Line 18 on IRS Schedule C (Form 1040) is designated for \"Office Expense.\"** This line is used to report expenses related to the operation of your business office, which are ordinary and necessary for your business activities.\\n\\nExpenses you should include on **Line 18** are:\\n\\n- **Office Supplies:** This includes items such as pens, paper, notebooks, printer ink, folders, envelopes, and other consumable supplies used in your office.\\n- **Postage and Shipping Costs:** Costs for mailing business correspondence, shipping products to customers, or sending documents.\\n- **Small Office Equipment:** Items like calculators, small printers, or other equipment with a short useful life (typically less than one year) that do not need to be depreciated.\\n- **Software and Subscriptions:** Costs for software licenses or subscriptions used primarily for office tasks (e.g., word processing, spreadsheets, email clients) if not capitalized.\\n- **Office Repairs and Maintenance:** Minor repairs or maintenance costs for your office space that are not capital improvements.\\n- **Cleaning and Janitorial Supplies:** Expenses for keeping your office space clean.\\n\\n**Please Note:**\\n\\n- **Fees for Tax Advice and Tax Preparation:** Expenses for tax advice related to your business and preparation of business tax forms should be reported on **Line 17** (\"Legal and Professional Services\"), not Line 18.\\n- **Expenses for Resolving Tax Deficiencies:** Costs incurred in resolving asserted tax deficiencies related to your business are also reported on **Line 17**.\\n- **Capital Expenses:** Do not include the cost of long-term assets (e.g., office furniture, computers) that must be capitalized and depreciated over time. These are typically reported in Part II (Expenses) under \"Depreciation and Section 179 Expense Deduction\" or on Form 4562.\\n\\nFor more detailed information, you can refer to [IRS Publication 334, Tax Guide for Small Business](https://www.irs.gov/forms-pubs/about-publication-334), which provides guidance on business expenses and how to report them.\\n\\n**Summary:**\\n\\n- **Include on Line 18:** Office                                                                                                                             \n",
       "\n",
       "    faithfulness_selfcheckgpt  \n",
       "36  0.189165                   \n",
       "11  0.208914                   "
      ]
     },
     "metadata": {},
     "output_type": "display_data"
    },
    {
     "name": "stdout",
     "output_type": "stream",
     "text": [
      "\n",
      "\n",
      "DeepSeek-R1:\n"
     ]
    },
    {
     "data": {
      "text/html": [
       "<div>\n",
       "<style scoped>\n",
       "    .dataframe tbody tr th:only-of-type {\n",
       "        vertical-align: middle;\n",
       "    }\n",
       "\n",
       "    .dataframe tbody tr th {\n",
       "        vertical-align: top;\n",
       "    }\n",
       "\n",
       "    .dataframe thead th {\n",
       "        text-align: right;\n",
       "    }\n",
       "</style>\n",
       "<table border=\"1\" class=\"dataframe\">\n",
       "  <thead>\n",
       "    <tr style=\"text-align: right;\">\n",
       "      <th></th>\n",
       "      <th>context</th>\n",
       "      <th>output_cleaned</th>\n",
       "      <th>faithfulness_selfcheckgpt</th>\n",
       "    </tr>\n",
       "  </thead>\n",
       "  <tbody>\n",
       "    <tr>\n",
       "      <th>36</th>\n",
       "      <td>4.\\n\\n\\_\\_\\_\\_\\_\\n\\n \\n\\n \\n\\n  \\n![This is an Image: caution.gif](/pub/xml_bc/caution.gif) Electing to include nontaxable combat pay may increase or decrease your EIC. Figure the credit with and without your nontaxable combat pay before making the election.\\n\\n \\n\\n**5.**\\n\\nAdd lines 3 and 4.  \\n**This is your earned income**\\n\\n**5.**\\n\\n\\_\\_\\_\\_\\_\\n\\n \\n\\n \\n\\n \\n\\n**2\\.** Were you self-employed at any time in 2024, or are you filing Schedule SE because you were a member of the clergy or you had church employee income, or are you filing Schedule C as a statutory employee?\\n\\n \\n\\n![This is an Image: squ.gif](/pub/xml_bc/squ.gif)\\n\\n\\[ \\]\\n\\n**Yes.**\\n\\nSkip question 3 and Step 6; go to Worksheet B.\\n\\n \\n\\n![This is an Image: squ.gif](/pub/xml_bc/squ.gif)\\n\\n\\[ \\]\\n\\n**No.**\\n\\n**3\\.** If you have:\\n\\n*   3 or more qualifying children who have valid SSNs, is your earned income less than $59,899 ($66,819 if married filing jointly)?\\n    \\n*   2 qualifying children who have valid SSNs, is your earned income less than $55,768 ($62,688 if married filing jointly)?\\n    \\n*   1 qualifying child who has a valid SSN, is your earned income less than $49,084 ($56,004 if married filing jointly)?\\n    \\n*   No qualifying children who have valid SSNs, is your earned income less than $18,591 ($25,511 if married filing jointly)?\\n    \\n\\n \\n\\n![This is an Image: squ.gif](/pub/xml_bc/squ.gif)\\n\\n\\[ \\]\\n\\n**Yes.**\\n\\nGo to Step 6.\\n\\n \\n\\n![This is an Image: squ.gif](/pub/xml_bc/squ.gif)\\n\\n\\[ \\]\\n\\n**No.**\\n\\nYou can't take the credit.\\n\\n##### Step 6. How To Figure the Credit\\n\\n**1\\.** Do you want the IRS to figure the credit for you?\\n\\n \\n\\n![This is an Image: squ.gif](/pub/xml_bc/squ.gif)\\n\\n\\[ \\]\\n\\n**Yes.**\\n\\nSee Credit figured by the IRS, later.\\n\\n \\n\\n![This is an Image: squ.gif](/pub/xml_bc/squ.gif)\\n\\n\\[ \\]\\n\\n**No.**\\n\\nGo to Worksheet A.\\n\\n#### Definitions and Special Rules\\n\\n**Adopted child.**\\n\\nAn adopted child is always treated as your own child. An adopted child includes a child lawfully placed with you for legal adoption.\\n\\n**Church employees.**</td>\n",
       "      <td>\\n\\nTo include nontaxable combat pay in your Earned Income Credit (EIC) calculation, follow these steps:\\n\\n1. **Compare Both Scenarios**:  \\n   - Calculate your EIC **with** nontaxable combat pay included in earned income.  \\n   - Calculate your EIC **without** including nontaxable combat pay.  \\n   - Use whichever method results in a **higher credit**.\\n\\n2. **How to Include Combat Pay**:  \\n   - Add your nontaxable combat pay to your earned income on **Line 4** of the worksheet.  \\n   - Combine this amount with other earned income on **Line 5** to determine your total earned income for EIC purposes.\\n\\n3. **Check Income Limits**:  \\n   Ensure your total earned income (including combat pay, if elected) does not exceed the EIC income thresholds for your filing status and number of qualifying children (listed in **Question 3** of the context). Exceeding these limits disqualifies you from the credit.\\n\\n4. **Documentation**:  \\n   If you elect to include combat pay, no special form is required. Simply include it in your earned income calculation. Retain documentation of your combat pay (e.g., Leave and Earnings Statement) in case of an IRS inquiry.\\n\\n**Why This Matters**:  \\nIncluding nontaxable combat pay can sometimes increase your EIC, but it depends on your income level and family size. Always verify both scenarios to maximize your benefit. If you’re unsure, use the IRS’s EIC Assistant tool or consult a tax professional.</td>\n",
       "      <td>0.150244</td>\n",
       "    </tr>\n",
       "    <tr>\n",
       "      <th>47</th>\n",
       "      <td>You may be able to increase an education credit if the student chooses to include all or part of a Pell grant or certain other scholarships or fellowships in income.\\n\\nFor more information, see Pub. 970; the instructions for Form 1040 or 1040-SR, line 29; and [IRS.gov/EdCredit](https://www.irs.gov/EdCredit).\\n\\n#### Line 4\\n\\n##### Retirement Savings Contributions Credit (Saver's Credit)\\n\\nYou may be able to take this credit if you, or your spouse if filing jointly, made (a) contributions, other than rollover contributions, to a traditional or Roth IRA; (b) elective deferrals to a 401(k) or 403(b) plan (including designated Roth contributions) or to a governmental section 457(b) plan, SIMPLE IRA, or a SEP; (c) voluntary employee contributions to a qualified retirement plan (including the federal Thrift Savings Plan); (d) contributions to a 501(c)(18)(D) plan; or (e) contributions to an ABLE account by the designated beneficiary, as defined in section 529A.\\n\\nHowever, you can't take the credit if either of the following applies.\\n\\n1.  The amount on Form 1040, 1040-SR, or 1040-NR, line 11, is more than $38,250 ($57,375 if head of household; $76,500 if married filing jointly).\\n    \\n2.  The person(s) who made the qualified contribution or elective deferral (a) was born after January 1, 2007, (b) is claimed as a dependent on someone else's 2024 tax return, or (c) was a student (defined next).\\n    \\n\\nYou were a student if during any part of 5 calendar months of 2024, you:\\n\\n*   Were enrolled as a full-time student at a school; or\\n    \\n*   Took a full-time, on-farm training course given by a school or a state, county, or local government agency.\\n    \\n\\nA school includes a technical, trade, or mechanical school. It doesn't include an on-the-job training course, correspondence school, or school offering courses only through the Internet.\\n\\nFor more details, use [Tax Topic 610](https://www.irs.gov/taxtopics/tc610.html) or see Form 8880.\\n\\n#### Line 5\\n\\n##### Residential Energy Credits\\n\\n**Line 5a—Residential clean energy credit.**</td>\n",
       "      <td>\\n\\n**Answer:**  \\nNo, you cannot claim the Retirement Savings Contributions Credit (Saver's Credit) in this scenario. Here's why:\\n\\n1. **Income Limit Exceeded**:  \\n   For single filers in 2024, the Saver's Credit is unavailable if your **adjusted gross income (AGI)** on Form 1040, line 11, exceeds **$38,250**. Your income of $40,000 exceeds this threshold, disqualifying you from the credit.\\n\\n2. **Roth IRA Contributions Qualify**:  \\n   While contributions to a Roth IRA are eligible for the credit, the income limit is the critical barrier here. Other disqualifiers (e.g., being a dependent, student status, or age) do not apply based on the information provided.\\n\\n**Next Steps**:  \\n- Review your AGI (line 11 of Form 1040) to confirm it is indeed $40,000.  \\n- If your income is close to the threshold in future years, contributions to retirement accounts (like a traditional IRA) could reduce your AGI and potentially make you eligible.  \\n\\nFor more details, see [IRS Form 8880](https://www.irs.gov/pub/irs-pdf/f8880.pdf) or [Tax Topic 610](https://www.irs.gov/taxtopics/tc610.html).</td>\n",
       "      <td>0.164544</td>\n",
       "    </tr>\n",
       "  </tbody>\n",
       "</table>\n",
       "</div>"
      ],
      "text/plain": [
       "                                                                                                                                                                                                                                                                                                                                                                                                                                                                                                                                                                                                                                                                                                                                                                                                                                                                                                                                                                                                                                                                                                                                                                                                                                                                                                                                                                                                                                                                                                                                                                                                                                                                                                                                                                                                                                                                                                                                                                                                                                                                                                                                                                          context  \\\n",
       "36  4.\\n\\n\\_\\_\\_\\_\\_\\n\\n \\n\\n \\n\\n  \\n![This is an Image: caution.gif](/pub/xml_bc/caution.gif) Electing to include nontaxable combat pay may increase or decrease your EIC. Figure the credit with and without your nontaxable combat pay before making the election.\\n\\n \\n\\n**5.**\\n\\nAdd lines 3 and 4.  \\n**This is your earned income**\\n\\n**5.**\\n\\n\\_\\_\\_\\_\\_\\n\\n \\n\\n \\n\\n \\n\\n**2\\.** Were you self-employed at any time in 2024, or are you filing Schedule SE because you were a member of the clergy or you had church employee income, or are you filing Schedule C as a statutory employee?\\n\\n \\n\\n![This is an Image: squ.gif](/pub/xml_bc/squ.gif)\\n\\n\\[ \\]\\n\\n**Yes.**\\n\\nSkip question 3 and Step 6; go to Worksheet B.\\n\\n \\n\\n![This is an Image: squ.gif](/pub/xml_bc/squ.gif)\\n\\n\\[ \\]\\n\\n**No.**\\n\\n**3\\.** If you have:\\n\\n*   3 or more qualifying children who have valid SSNs, is your earned income less than $59,899 ($66,819 if married filing jointly)?\\n    \\n*   2 qualifying children who have valid SSNs, is your earned income less than $55,768 ($62,688 if married filing jointly)?\\n    \\n*   1 qualifying child who has a valid SSN, is your earned income less than $49,084 ($56,004 if married filing jointly)?\\n    \\n*   No qualifying children who have valid SSNs, is your earned income less than $18,591 ($25,511 if married filing jointly)?\\n    \\n\\n \\n\\n![This is an Image: squ.gif](/pub/xml_bc/squ.gif)\\n\\n\\[ \\]\\n\\n**Yes.**\\n\\nGo to Step 6.\\n\\n \\n\\n![This is an Image: squ.gif](/pub/xml_bc/squ.gif)\\n\\n\\[ \\]\\n\\n**No.**\\n\\nYou can't take the credit.\\n\\n##### Step 6. How To Figure the Credit\\n\\n**1\\.** Do you want the IRS to figure the credit for you?\\n\\n \\n\\n![This is an Image: squ.gif](/pub/xml_bc/squ.gif)\\n\\n\\[ \\]\\n\\n**Yes.**\\n\\nSee Credit figured by the IRS, later.\\n\\n \\n\\n![This is an Image: squ.gif](/pub/xml_bc/squ.gif)\\n\\n\\[ \\]\\n\\n**No.**\\n\\nGo to Worksheet A.\\n\\n#### Definitions and Special Rules\\n\\n**Adopted child.**\\n\\nAn adopted child is always treated as your own child. An adopted child includes a child lawfully placed with you for legal adoption.\\n\\n**Church employees.**   \n",
       "47  You may be able to increase an education credit if the student chooses to include all or part of a Pell grant or certain other scholarships or fellowships in income.\\n\\nFor more information, see Pub. 970; the instructions for Form 1040 or 1040-SR, line 29; and [IRS.gov/EdCredit](https://www.irs.gov/EdCredit).\\n\\n#### Line 4\\n\\n##### Retirement Savings Contributions Credit (Saver's Credit)\\n\\nYou may be able to take this credit if you, or your spouse if filing jointly, made (a) contributions, other than rollover contributions, to a traditional or Roth IRA; (b) elective deferrals to a 401(k) or 403(b) plan (including designated Roth contributions) or to a governmental section 457(b) plan, SIMPLE IRA, or a SEP; (c) voluntary employee contributions to a qualified retirement plan (including the federal Thrift Savings Plan); (d) contributions to a 501(c)(18)(D) plan; or (e) contributions to an ABLE account by the designated beneficiary, as defined in section 529A.\\n\\nHowever, you can't take the credit if either of the following applies.\\n\\n1.  The amount on Form 1040, 1040-SR, or 1040-NR, line 11, is more than $38,250 ($57,375 if head of household; $76,500 if married filing jointly).\\n    \\n2.  The person(s) who made the qualified contribution or elective deferral (a) was born after January 1, 2007, (b) is claimed as a dependent on someone else's 2024 tax return, or (c) was a student (defined next).\\n    \\n\\nYou were a student if during any part of 5 calendar months of 2024, you:\\n\\n*   Were enrolled as a full-time student at a school; or\\n    \\n*   Took a full-time, on-farm training course given by a school or a state, county, or local government agency.\\n    \\n\\nA school includes a technical, trade, or mechanical school. It doesn't include an on-the-job training course, correspondence school, or school offering courses only through the Internet.\\n\\nFor more details, use [Tax Topic 610](https://www.irs.gov/taxtopics/tc610.html) or see Form 8880.\\n\\n#### Line 5\\n\\n##### Residential Energy Credits\\n\\n**Line 5a—Residential clean energy credit.**                       \n",
       "\n",
       "                                                                                                                                                                                                                                                                                                                                                                                                                                                                                                                                                                                                                                                                                                                                                                                                                                                                                                                                                                                                                                                                                                                                                                                                                                                                                                                                                                                                                                                                                              output_cleaned  \\\n",
       "36  \\n\\nTo include nontaxable combat pay in your Earned Income Credit (EIC) calculation, follow these steps:\\n\\n1. **Compare Both Scenarios**:  \\n   - Calculate your EIC **with** nontaxable combat pay included in earned income.  \\n   - Calculate your EIC **without** including nontaxable combat pay.  \\n   - Use whichever method results in a **higher credit**.\\n\\n2. **How to Include Combat Pay**:  \\n   - Add your nontaxable combat pay to your earned income on **Line 4** of the worksheet.  \\n   - Combine this amount with other earned income on **Line 5** to determine your total earned income for EIC purposes.\\n\\n3. **Check Income Limits**:  \\n   Ensure your total earned income (including combat pay, if elected) does not exceed the EIC income thresholds for your filing status and number of qualifying children (listed in **Question 3** of the context). Exceeding these limits disqualifies you from the credit.\\n\\n4. **Documentation**:  \\n   If you elect to include combat pay, no special form is required. Simply include it in your earned income calculation. Retain documentation of your combat pay (e.g., Leave and Earnings Statement) in case of an IRS inquiry.\\n\\n**Why This Matters**:  \\nIncluding nontaxable combat pay can sometimes increase your EIC, but it depends on your income level and family size. Always verify both scenarios to maximize your benefit. If you’re unsure, use the IRS’s EIC Assistant tool or consult a tax professional.   \n",
       "47  \\n\\n**Answer:**  \\nNo, you cannot claim the Retirement Savings Contributions Credit (Saver's Credit) in this scenario. Here's why:\\n\\n1. **Income Limit Exceeded**:  \\n   For single filers in 2024, the Saver's Credit is unavailable if your **adjusted gross income (AGI)** on Form 1040, line 11, exceeds **$38,250**. Your income of $40,000 exceeds this threshold, disqualifying you from the credit.\\n\\n2. **Roth IRA Contributions Qualify**:  \\n   While contributions to a Roth IRA are eligible for the credit, the income limit is the critical barrier here. Other disqualifiers (e.g., being a dependent, student status, or age) do not apply based on the information provided.\\n\\n**Next Steps**:  \\n- Review your AGI (line 11 of Form 1040) to confirm it is indeed $40,000.  \\n- If your income is close to the threshold in future years, contributions to retirement accounts (like a traditional IRA) could reduce your AGI and potentially make you eligible.  \\n\\nFor more details, see [IRS Form 8880](https://www.irs.gov/pub/irs-pdf/f8880.pdf) or [Tax Topic 610](https://www.irs.gov/taxtopics/tc610.html).                                                                                                                                                                                                                                                                                                                                                                 \n",
       "\n",
       "    faithfulness_selfcheckgpt  \n",
       "36  0.150244                   \n",
       "47  0.164544                   "
      ]
     },
     "metadata": {},
     "output_type": "display_data"
    }
   ],
   "source": [
    "# First, we should remove out the thinking portion of the DeepSeek-R1 model output\n",
    "deepseek_results_df['output_cleaned'] = deepseek_results_df['output'].str.split(\"</think>\").str[-1]\n",
    "\n",
    "\n",
    "print(\"Worst Faithfulness performers\\n\")\n",
    "\n",
    "with pd.option_context('display.max_colwidth', 0):\n",
    "\n",
    "  print(\"o1:\")\n",
    "  display(o1_results_df.sort_values('faithfulness_selfcheckgpt', ascending=True)[['context', 'output', 'faithfulness_selfcheckgpt']].head(2))\n",
    "\n",
    "  print(\"\\n\")\n",
    "  print(\"DeepSeek-R1:\")\n",
    "  display(deepseek_results_df.sort_values('faithfulness_selfcheckgpt', ascending=True)[['context', 'output_cleaned', 'faithfulness_selfcheckgpt']].head(2))\n"
   ]
  },
  {
   "cell_type": "markdown",
   "metadata": {
    "id": "4FaqzI7k7tAE"
   },
   "source": [
    "You can see that in **both** `o1` and `DeepSeek-R1`, their responses fully and correctly define the EIC acronym as \"Earned Income Credit\". However, because the context does not contain the full definition for the acronym, their responses are considered a hallucination.\n",
    "\n",
    "You can also see that the second examples for each model contain URLs in the outputs. `o1`'s output only contains URLs that can be found in the context; however, `DeepSeek-R1`'s output contains a link for Form 8880 that is not present in the context, resulting in a hallucination. \n",
    "\n",
    "These hallucinations can likely be mitigated through better prompting to achieve better results. Thus, due to the smaller size, lower cost, and superior performance, we would likely continue to iterate on the prompt for `DeepSeek-R1`. "
   ]
  },
  {
   "cell_type": "markdown",
   "metadata": {
    "id": "rG54VbHQ-GSu"
   },
   "source": [
    "## Support\n",
    "For assistance and inquiries: [support@quotientai.co](mailto:support@quotientai.co)"
   ]
  }
 ],
 "metadata": {
  "colab": {
   "provenance": []
  },
  "kernelspec": {
   "display_name": "quotient-python-client",
   "language": "python",
   "name": "python3"
  },
  "language_info": {
   "codemirror_mode": {
    "name": "ipython",
    "version": 3
   },
   "file_extension": ".py",
   "mimetype": "text/x-python",
   "name": "python",
   "nbconvert_exporter": "python",
   "pygments_lexer": "ipython3",
   "version": "3.10.13"
  }
 },
 "nbformat": 4,
 "nbformat_minor": 0
}
